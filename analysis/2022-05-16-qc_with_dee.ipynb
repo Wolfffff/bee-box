{
 "cells": [
  {
   "cell_type": "markdown",
   "metadata": {},
   "source": [
    "# QC how to!\n",
    "\n",
    "This is oriented around using the numpy data format which is (#frames, #nodes, #coords, #individuals)"
   ]
  },
  {
   "cell_type": "code",
   "execution_count": 1,
   "metadata": {},
   "outputs": [],
   "source": [
    "import glob\n",
    "from natsort import natsorted\n",
    "from bee_tracking import Tracking\n",
    "import os\n",
    "from utils.logger import logger\n",
    "import pickle\n",
    "from tqdm import tqdm\n",
    "\n",
    "base_dir = \"/Genomics/ayroleslab2/scott/bees/data/\"\n",
    "experiment_dict = { d: {} for d in os.listdir(base_dir) if os.path.isdir(os.path.join(base_dir,d))}"
   ]
  },
  {
   "cell_type": "code",
   "execution_count": 2,
   "metadata": {},
   "outputs": [
    {
     "name": "stderr",
     "output_type": "stream",
     "text": [
      "20:25:51 INFO: Loading data for experiments: ['tracking_results_20211101QL', '20210909_run000_00000000', 'tracking_results_20211101QR', 'tracking_results_20211018-ql', 'Queenright_092321', 'tracking_results_20211018_QL', 'tracking_results_20210929QL', 'tracking_results_20210923_QL', 'tracking_results_20210929_QR', 'trackingresults-20211018_qr']\n"
     ]
    }
   ],
   "source": [
    "logger.info(\"Loading data for experiments: \" + str(list(experiment_dict.keys())))"
   ]
  },
  {
   "cell_type": "code",
   "execution_count": 3,
   "metadata": {},
   "outputs": [],
   "source": [
    "key = \"tracking_results_20211101QR\"\n",
    "experiment_dict = {key: {}}"
   ]
  },
  {
   "cell_type": "code",
   "execution_count": 4,
   "metadata": {},
   "outputs": [
    {
     "name": "stderr",
     "output_type": "stream",
     "text": [
      "  0%|          | 0/1 [00:00<?, ?it/s]"
     ]
    }
   ],
   "source": [
    "for key, value in tqdm(experiment_dict.items()):\n",
    "    experiment_dict[key][\"result_files\"] = natsorted(\n",
    "        glob.glob(base_dir + key + \"/*/*_aruco_data_with_track_numbers.csv\")\n",
    "    )\n",
    "    if len(experiment_dict[key][\"result_files\"]) == 0:\n",
    "            experiment_dict[key][\"result_files\"] = natsorted(\n",
    "        glob.glob(base_dir + key + \"/*_aruco_data_with_track_numbers.csv\")\n",
    "    )\n",
    "    if len(experiment_dict[key][\"result_files\"]) == 0:\n",
    "        logger.info(\"No result files found for experiment: \" + key)\n",
    "    experiment_dict[key][\"track\"] = Tracking.fromListOfArucoFiles(experiment_dict[key][\"result_files\"])"
   ]
  },
  {
   "cell_type": "code",
   "execution_count": null,
   "metadata": {},
   "outputs": [],
   "source": [
    "logger.info(experiment_dict[key].keys()) # What's in the dictionary anyway?"
   ]
  },
  {
   "cell_type": "code",
   "execution_count": null,
   "metadata": {},
   "outputs": [],
   "source": [
    "track = experiment_dict[key][\"track\"]\n",
    "arr = track.to_numpy()"
   ]
  },
  {
   "cell_type": "code",
   "execution_count": null,
   "metadata": {},
   "outputs": [],
   "source": [
    "logger.info(arr.shape) # (num_frames, num_nodes, num_coords, num_individuals)"
   ]
  },
  {
   "cell_type": "code",
   "execution_count": null,
   "metadata": {},
   "outputs": [],
   "source": [
    "import pandas as pd\n",
    "uniq_cols = track._track_dataframe.columns.get_level_values(0).unique()\n",
    "tags = track._track_dataframe.columns.get_level_values(1).unique()\n",
    "\n",
    "logger.info(\"Unique columns: \" + str(uniq_cols))\n",
    "logger.info(\"Unique tags: \" + str(tags))"
   ]
  },
  {
   "cell_type": "markdown",
   "metadata": {},
   "source": [
    "## Real QC!\n",
    "\n",
    "### missingness"
   ]
  },
  {
   "cell_type": "code",
   "execution_count": null,
   "metadata": {},
   "outputs": [],
   "source": [
    "import numpy as np\n",
    "tag_tracks = arr[:,0,1,:] # (num_frames, num_individuals) - tagX(cX) vals!\n",
    "missing_ct =np.sum( np.isnan(tag_tracks),axis=0)\n",
    "missing_freq = missing_ct/tag_tracks.shape[0]\n",
    "\n",
    "qc_df = pd.DataFrame({\"tag\":tags, \"missing_freq\":missing_freq})"
   ]
  },
  {
   "cell_type": "code",
   "execution_count": null,
   "metadata": {},
   "outputs": [],
   "source": [
    "import seaborn as sns\n",
    "import matplotlib.pyplot as plt\n",
    "\n",
    "sns.set(style=\"white\")\n",
    "fig, ax = plt.subplots(figsize=(16,8))\n",
    "plt.xlim(0,1)\n",
    "sns.histplot(ax=ax, data=qc_df, x=\"missing_freq\",\n",
    "    bins=10,\n",
    "    multiple=\"stack\",\n",
    "    palette=palette,\n",
    "    edgecolor=\".3\",\n",
    "    linewidth=.5,\n",
    "    legend=False\n",
    ")\n",
    "plt.title('Missingness distribution')\n",
    "plt.xlabel('Frequency of missing data')\n",
    "sns.set_style(\"ticks\")\n",
    "sns.despine(offset=10, trim=True)"
   ]
  },
  {
   "cell_type": "markdown",
   "metadata": {},
   "source": [
    "### Speed histograms"
   ]
  },
  {
   "cell_type": "code",
   "execution_count": null,
   "metadata": {},
   "outputs": [],
   "source": [
    "%%capture\n",
    "import utils.trx_utils as trx_utils\n",
    "import importlib\n",
    "importlib.reload(trx_utils)\n",
    "speed = trx_utils.instance_node_velocities(arr,0,arr.shape[0])"
   ]
  },
  {
   "cell_type": "code",
   "execution_count": null,
   "metadata": {},
   "outputs": [],
   "source": [
    "import matplotlib.pyplot as plt\n",
    "import colorcet as cc\n",
    "\n",
    "node_names = {\n",
    "    \"abdomen\": 0,\n",
    "    \"tag\": 1,\n",
    "    \"head\": 2,\n",
    "    \"thorax\": 3\n",
    "}\n",
    "\n",
    "tag_speed  = speed[:,node_names['tag'],:]\n",
    "\n",
    "palette = sns.color_palette(cc.glasbey, n_colors=tag_speed.shape[1])\n",
    "fig, ax = plt.subplots(figsize=(16,8))\n",
    "tag_speed[np.where(tag_speed==0)] = np.nan\n",
    "sns.histplot(ax=ax, data=tag_speed, \n",
    "    multiple=\"stack\",\n",
    "    palette=palette,\n",
    "    edgecolor=\".3\",\n",
    "    linewidth=.5,\n",
    "    log_scale=True,\n",
    "    legend=False,\n",
    "    stat=\"density\",\n",
    ")\n",
    "plt.title('Speed distribution - px/frame')\n",
    "sns.set_style(\"ticks\")\n",
    "sns.despine(offset=10, trim=True)"
   ]
  }
 ],
 "metadata": {
  "interpreter": {
   "hash": "177c836934b6a63d57a075b5cc3f7812a3de8a98495a556647184ecb20fdf5fb"
  },
  "kernelspec": {
   "display_name": "Python 3.7.11 ('sleap_dev')",
   "language": "python",
   "name": "python3"
  },
  "language_info": {
   "codemirror_mode": {
    "name": "ipython",
    "version": 3
   },
   "file_extension": ".py",
   "mimetype": "text/x-python",
   "name": "python",
   "nbconvert_exporter": "python",
   "pygments_lexer": "ipython3",
   "version": "3.7.11"
  },
  "orig_nbformat": 4
 },
 "nbformat": 4,
 "nbformat_minor": 2
}
