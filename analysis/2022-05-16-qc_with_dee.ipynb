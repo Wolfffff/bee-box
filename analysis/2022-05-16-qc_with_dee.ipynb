{
 "cells": [
  {
   "cell_type": "markdown",
   "metadata": {},
   "source": [
    "# QC how to!\n",
    "\n",
    "This is oriented around using the numpy data format which is (#frames, #nodes, #coords, #individuals)"
   ]
  },
  {
   "cell_type": "code",
   "execution_count": null,
   "metadata": {},
   "outputs": [],
   "source": [
    "import glob\n",
    "from natsort import natsorted\n",
    "from bee_tracking import Tracking\n",
    "import os\n",
    "from utils.logger import logger\n",
    "import pickle\n",
    "from tqdm import tqdm\n",
    "\n",
    "base_dir = \"/Genomics/ayroleslab2/scott/bees/data/\"\n",
    "experiment_dict = {\n",
    "    d: {} for d in os.listdir(base_dir) if os.path.isdir(os.path.join(base_dir, d))\n",
    "}"
   ]
  },
  {
   "cell_type": "code",
   "execution_count": null,
   "metadata": {},
   "outputs": [],
   "source": [
    "logger.info(\"Loading data for experiments: \" + str(list(experiment_dict.keys())))"
   ]
  },
  {
   "cell_type": "code",
   "execution_count": null,
   "metadata": {},
   "outputs": [],
   "source": [
    "key = \"tracking_results_20211101QR\"\n",
    "experiment_dict = {key: {}}"
   ]
  },
  {
   "cell_type": "code",
   "execution_count": null,
   "metadata": {},
   "outputs": [],
   "source": [
    "for key, value in tqdm(experiment_dict.items()):\n",
    "    experiment_dict[key][\"result_files\"] = natsorted(\n",
    "        glob.glob(base_dir + key + \"/*/*_aruco_data_with_track_numbers.csv\")\n",
    "    )\n",
    "    if len(experiment_dict[key][\"result_files\"]) == 0:\n",
    "        experiment_dict[key][\"result_files\"] = natsorted(\n",
    "            glob.glob(base_dir + key + \"/*_aruco_data_with_track_numbers.csv\")\n",
    "        )\n",
    "    if len(experiment_dict[key][\"result_files\"]) == 0:\n",
    "        logger.info(\"No result files found for experiment: \" + key)\n",
    "    experiment_dict[key][\"track\"] = Tracking.fromListOfArucoFiles(\n",
    "        experiment_dict[key][\"result_files\"][0:2]\n",
    "    )"
   ]
  },
  {
   "cell_type": "code",
   "execution_count": null,
   "metadata": {},
   "outputs": [],
   "source": [
    "logger.info(experiment_dict[key].keys()) # What's in the dictionary anyway?"
   ]
  },
  {
   "cell_type": "code",
   "execution_count": null,
   "metadata": {},
   "outputs": [],
   "source": [
    "track = experiment_dict[key][\"track\"]\n",
    "arr = track.to_numpy()"
   ]
  },
  {
   "cell_type": "code",
   "execution_count": null,
   "metadata": {},
   "outputs": [],
   "source": [
    "logger.info(arr.shape)  # (num_frames, num_nodes, num_coords, num_individuals)"
   ]
  },
  {
   "cell_type": "code",
   "execution_count": null,
   "metadata": {},
   "outputs": [],
   "source": [
    "import pandas as pd\n",
    "\n",
    "uniq_cols = track._track_dataframe.columns.get_level_values(0).unique()\n",
    "tags = track._track_dataframe.columns.get_level_values(1).unique()\n",
    "\n",
    "logger.info(\"Unique columns: \" + str(uniq_cols))\n",
    "logger.info(\"Unique tags: \" + str(tags))"
   ]
  },
  {
   "cell_type": "markdown",
   "metadata": {},
   "source": [
    "## Real QC!\n",
    "\n",
    "### missingness"
   ]
  },
  {
   "cell_type": "code",
   "execution_count": null,
   "metadata": {},
   "outputs": [],
   "source": [
    "# Asking if along the x of each node, are all nodes missing\n",
    "import numpy as np\n",
    "atleast_one_node_defined = np.any(~np.isnan(arr[:, :, 0, :]), axis=1)\n",
    "no_nodes_defined =  ~atleast_one_node_defined\n",
    "\n",
    "# Take the sum and divide by the length to get our actual values!\n",
    "missing_ct = np.sum(no_nodes_defined, axis=0)\n",
    "missing_freq = missing_ct / no_nodes_defined.shape[0]\n",
    "\n",
    "qc_df = pd.DataFrame({\"tag\": tags, \"missing_freq\": missing_freq})"
   ]
  },
  {
   "cell_type": "code",
   "execution_count": null,
   "metadata": {},
   "outputs": [],
   "source": [
    "import seaborn as sns\n",
    "import matplotlib.pyplot as plt\n",
    "import colorcet as cc\n",
    "\n",
    "palette = sns.color_palette(cc.glasbey, n_colors=arr.shape[3])\n",
    "\n",
    "sns.set(style=\"white\")\n",
    "fig, ax = plt.subplots(figsize=(16, 8))\n",
    "plt.xlim(0, 1)\n",
    "sns.histplot(\n",
    "    ax=ax,\n",
    "    data=qc_df,\n",
    "    x=\"missing_freq\",\n",
    "    bins=100,\n",
    "    multiple=\"stack\",\n",
    "    palette=palette,\n",
    "    edgecolor=\".3\",\n",
    "    linewidth=0.5,\n",
    "    legend=False,\n",
    ")\n",
    "plt.title(\"Missingness distribution\")\n",
    "plt.xlabel(\"Frequency of missing data\")\n",
    "sns.set_style(\"ticks\")\n",
    "sns.despine(offset=10, trim=True)"
   ]
  },
  {
   "cell_type": "markdown",
   "metadata": {},
   "source": [
    "### Speed histograms"
   ]
  },
  {
   "cell_type": "code",
   "execution_count": null,
   "metadata": {},
   "outputs": [],
   "source": [
    "%%capture\n",
    "import utils.trx_utils as trx_utils\n",
    "import importlib\n",
    "\n",
    "importlib.reload(trx_utils)\n",
    "node_vels = trx_utils.instance_node_velocities(arr, 0, arr.shape[0])"
   ]
  },
  {
   "cell_type": "code",
   "execution_count": null,
   "metadata": {},
   "outputs": [],
   "source": [
    "node_names = {\"abdomen\": 0, \"tag\": 1, \"head\": 2, \"thorax\": 3}\n",
    "\n",
    "node_vels[:, node_names[\"tag\"], :]\n",
    "\n",
    "fig, ax = plt.subplots(figsize=(16, 8))\n",
    "node_vels[np.where(node_vels== 0)] = np.nan\n",
    "sns.histplot(\n",
    "    ax=ax,\n",
    "    data=node_vels,\n",
    "    bins=100,\n",
    "    multiple=\"stack\",\n",
    "    palette=palette,\n",
    "    edgecolor=\".3\",\n",
    "    linewidth=0.5,\n",
    "    log_scale=True,\n",
    "    legend=False,\n",
    "    stat=\"density\",\n",
    ")\n",
    "plt.title(\"Speed distribution - px/frame\")\n",
    "sns.set_style(\"ticks\")\n",
    "sns.despine(offset=10, trim=True)"
   ]
  },
  {
   "cell_type": "code",
   "execution_count": null,
   "metadata": {},
   "outputs": [],
   "source": []
  }
 ],
 "metadata": {
  "interpreter": {
   "hash": "177c836934b6a63d57a075b5cc3f7812a3de8a98495a556647184ecb20fdf5fb"
  },
  "kernelspec": {
   "display_name": "Python 3.7.11 ('sleap_dev')",
   "language": "python",
   "name": "python3"
  },
  "language_info": {
   "codemirror_mode": {
    "name": "ipython",
    "version": 3
   },
   "file_extension": ".py",
   "mimetype": "text/x-python",
   "name": "python",
   "nbconvert_exporter": "python",
   "pygments_lexer": "ipython3",
   "version": "3.7.11"
  }
 },
 "nbformat": 4,
 "nbformat_minor": 2
}
